{
 "cells": [
  {
   "cell_type": "code",
   "execution_count": 1,
   "id": "03548e3f-06c7-4dcf-b774-4528ed8a7e4e",
   "metadata": {},
   "outputs": [],
   "source": [
    "# Importing necessary libraries\n",
    "import pandas as pd\n",
    "import numpy as np\n",
    "import re\n",
    "import matplotlib.pyplot as plt\n",
    "import seaborn as sns\n",
    "from sklearn.feature_extraction.text import TfidfVectorizer\n",
    "from sklearn.model_selection import train_test_split\n",
    "from sklearn.linear_model import LogisticRegression\n",
    "from sklearn.naive_bayes import MultinomialNB\n",
    "from sklearn.metrics import accuracy_score, classification_report, confusion_matrix\n",
    "import streamlit as st"
   ]
  },
  {
   "cell_type": "code",
   "execution_count": 2,
   "id": "0454a01d-a5a6-47b4-924e-797661c2958b",
   "metadata": {},
   "outputs": [],
   "source": [
    "# Loading the datasets\n",
    "true_data = pd.read_csv(\"True.csv\")\n",
    "fake_data = pd.read_csv(\"Fake.csv\")"
   ]
  },
  {
   "cell_type": "code",
   "execution_count": 3,
   "id": "50f7ade2-2996-49bf-88fb-65a57041edb9",
   "metadata": {},
   "outputs": [
    {
     "data": {
      "text/html": [
       "<div>\n",
       "<style scoped>\n",
       "    .dataframe tbody tr th:only-of-type {\n",
       "        vertical-align: middle;\n",
       "    }\n",
       "\n",
       "    .dataframe tbody tr th {\n",
       "        vertical-align: top;\n",
       "    }\n",
       "\n",
       "    .dataframe thead th {\n",
       "        text-align: right;\n",
       "    }\n",
       "</style>\n",
       "<table border=\"1\" class=\"dataframe\">\n",
       "  <thead>\n",
       "    <tr style=\"text-align: right;\">\n",
       "      <th></th>\n",
       "      <th>title</th>\n",
       "      <th>text</th>\n",
       "      <th>subject</th>\n",
       "      <th>date</th>\n",
       "    </tr>\n",
       "  </thead>\n",
       "  <tbody>\n",
       "    <tr>\n",
       "      <th>0</th>\n",
       "      <td>As U.S. budget fight looms, Republicans flip t...</td>\n",
       "      <td>WASHINGTON (Reuters) - The head of a conservat...</td>\n",
       "      <td>politicsNews</td>\n",
       "      <td>December 31, 2017</td>\n",
       "    </tr>\n",
       "    <tr>\n",
       "      <th>1</th>\n",
       "      <td>U.S. military to accept transgender recruits o...</td>\n",
       "      <td>WASHINGTON (Reuters) - Transgender people will...</td>\n",
       "      <td>politicsNews</td>\n",
       "      <td>December 29, 2017</td>\n",
       "    </tr>\n",
       "    <tr>\n",
       "      <th>2</th>\n",
       "      <td>Senior U.S. Republican senator: 'Let Mr. Muell...</td>\n",
       "      <td>WASHINGTON (Reuters) - The special counsel inv...</td>\n",
       "      <td>politicsNews</td>\n",
       "      <td>December 31, 2017</td>\n",
       "    </tr>\n",
       "    <tr>\n",
       "      <th>3</th>\n",
       "      <td>FBI Russia probe helped by Australian diplomat...</td>\n",
       "      <td>WASHINGTON (Reuters) - Trump campaign adviser ...</td>\n",
       "      <td>politicsNews</td>\n",
       "      <td>December 30, 2017</td>\n",
       "    </tr>\n",
       "    <tr>\n",
       "      <th>4</th>\n",
       "      <td>Trump wants Postal Service to charge 'much mor...</td>\n",
       "      <td>SEATTLE/WASHINGTON (Reuters) - President Donal...</td>\n",
       "      <td>politicsNews</td>\n",
       "      <td>December 29, 2017</td>\n",
       "    </tr>\n",
       "  </tbody>\n",
       "</table>\n",
       "</div>"
      ],
      "text/plain": [
       "                                               title  \\\n",
       "0  As U.S. budget fight looms, Republicans flip t...   \n",
       "1  U.S. military to accept transgender recruits o...   \n",
       "2  Senior U.S. Republican senator: 'Let Mr. Muell...   \n",
       "3  FBI Russia probe helped by Australian diplomat...   \n",
       "4  Trump wants Postal Service to charge 'much mor...   \n",
       "\n",
       "                                                text       subject  \\\n",
       "0  WASHINGTON (Reuters) - The head of a conservat...  politicsNews   \n",
       "1  WASHINGTON (Reuters) - Transgender people will...  politicsNews   \n",
       "2  WASHINGTON (Reuters) - The special counsel inv...  politicsNews   \n",
       "3  WASHINGTON (Reuters) - Trump campaign adviser ...  politicsNews   \n",
       "4  SEATTLE/WASHINGTON (Reuters) - President Donal...  politicsNews   \n",
       "\n",
       "                 date  \n",
       "0  December 31, 2017   \n",
       "1  December 29, 2017   \n",
       "2  December 31, 2017   \n",
       "3  December 30, 2017   \n",
       "4  December 29, 2017   "
      ]
     },
     "execution_count": 3,
     "metadata": {},
     "output_type": "execute_result"
    }
   ],
   "source": [
    "true_data.head()"
   ]
  },
  {
   "cell_type": "code",
   "execution_count": 4,
   "id": "a92d40f0-871d-483f-8c74-e4aaf8e70f63",
   "metadata": {},
   "outputs": [
    {
     "data": {
      "text/html": [
       "<div>\n",
       "<style scoped>\n",
       "    .dataframe tbody tr th:only-of-type {\n",
       "        vertical-align: middle;\n",
       "    }\n",
       "\n",
       "    .dataframe tbody tr th {\n",
       "        vertical-align: top;\n",
       "    }\n",
       "\n",
       "    .dataframe thead th {\n",
       "        text-align: right;\n",
       "    }\n",
       "</style>\n",
       "<table border=\"1\" class=\"dataframe\">\n",
       "  <thead>\n",
       "    <tr style=\"text-align: right;\">\n",
       "      <th></th>\n",
       "      <th>title</th>\n",
       "      <th>text</th>\n",
       "      <th>subject</th>\n",
       "      <th>date</th>\n",
       "    </tr>\n",
       "  </thead>\n",
       "  <tbody>\n",
       "    <tr>\n",
       "      <th>0</th>\n",
       "      <td>Donald Trump Sends Out Embarrassing New Year’...</td>\n",
       "      <td>Donald Trump just couldn t wish all Americans ...</td>\n",
       "      <td>News</td>\n",
       "      <td>December 31, 2017</td>\n",
       "    </tr>\n",
       "    <tr>\n",
       "      <th>1</th>\n",
       "      <td>Drunk Bragging Trump Staffer Started Russian ...</td>\n",
       "      <td>House Intelligence Committee Chairman Devin Nu...</td>\n",
       "      <td>News</td>\n",
       "      <td>December 31, 2017</td>\n",
       "    </tr>\n",
       "    <tr>\n",
       "      <th>2</th>\n",
       "      <td>Sheriff David Clarke Becomes An Internet Joke...</td>\n",
       "      <td>On Friday, it was revealed that former Milwauk...</td>\n",
       "      <td>News</td>\n",
       "      <td>December 30, 2017</td>\n",
       "    </tr>\n",
       "    <tr>\n",
       "      <th>3</th>\n",
       "      <td>Trump Is So Obsessed He Even Has Obama’s Name...</td>\n",
       "      <td>On Christmas day, Donald Trump announced that ...</td>\n",
       "      <td>News</td>\n",
       "      <td>December 29, 2017</td>\n",
       "    </tr>\n",
       "    <tr>\n",
       "      <th>4</th>\n",
       "      <td>Pope Francis Just Called Out Donald Trump Dur...</td>\n",
       "      <td>Pope Francis used his annual Christmas Day mes...</td>\n",
       "      <td>News</td>\n",
       "      <td>December 25, 2017</td>\n",
       "    </tr>\n",
       "  </tbody>\n",
       "</table>\n",
       "</div>"
      ],
      "text/plain": [
       "                                               title  \\\n",
       "0   Donald Trump Sends Out Embarrassing New Year’...   \n",
       "1   Drunk Bragging Trump Staffer Started Russian ...   \n",
       "2   Sheriff David Clarke Becomes An Internet Joke...   \n",
       "3   Trump Is So Obsessed He Even Has Obama’s Name...   \n",
       "4   Pope Francis Just Called Out Donald Trump Dur...   \n",
       "\n",
       "                                                text subject  \\\n",
       "0  Donald Trump just couldn t wish all Americans ...    News   \n",
       "1  House Intelligence Committee Chairman Devin Nu...    News   \n",
       "2  On Friday, it was revealed that former Milwauk...    News   \n",
       "3  On Christmas day, Donald Trump announced that ...    News   \n",
       "4  Pope Francis used his annual Christmas Day mes...    News   \n",
       "\n",
       "                date  \n",
       "0  December 31, 2017  \n",
       "1  December 31, 2017  \n",
       "2  December 30, 2017  \n",
       "3  December 29, 2017  \n",
       "4  December 25, 2017  "
      ]
     },
     "execution_count": 4,
     "metadata": {},
     "output_type": "execute_result"
    }
   ],
   "source": [
    "fake_data.head()"
   ]
  },
  {
   "cell_type": "code",
   "execution_count": 5,
   "id": "39c8ef23-0832-49b0-baa5-088964149dc9",
   "metadata": {},
   "outputs": [],
   "source": [
    "# Adding labels to the datasets\n",
    "true_data[\"label\"] = 1  # Real news\n",
    "fake_data[\"label\"] = 0  # Fake news"
   ]
  },
  {
   "cell_type": "code",
   "execution_count": 6,
   "id": "7bb61d1f-1f30-4eb7-8e35-cbc025c99138",
   "metadata": {},
   "outputs": [],
   "source": [
    "# Combining the datasets\n",
    "data = pd.concat([true_data, fake_data]).reset_index(drop=True)"
   ]
  },
  {
   "cell_type": "code",
   "execution_count": 7,
   "id": "a3977a30-2cbb-4408-b146-f13481708f91",
   "metadata": {},
   "outputs": [],
   "source": [
    "# Shuffling the data\n",
    "data = data.sample(frac=1, random_state=42).reset_index(drop=True)"
   ]
  },
  {
   "cell_type": "code",
   "execution_count": 8,
   "id": "b62402c8-7ade-4b47-a891-b8b9cc5b4c68",
   "metadata": {},
   "outputs": [],
   "source": [
    "# Data preprocessing\n",
    "def preprocess_text(text):\n",
    "    text = re.sub(r'[^a-zA-Z]', ' ', text)  \n",
    "    text = text.lower()  \n",
    "    text = text.strip()  \n",
    "    return text\n",
    "\n",
    "data['text'] = data['text'].apply(preprocess_text)"
   ]
  },
  {
   "cell_type": "code",
   "execution_count": 9,
   "id": "0c38a87f-ee73-46ef-943b-acd0c1cde918",
   "metadata": {},
   "outputs": [],
   "source": [
    "# Separating features and labels\n",
    "X = data['text']\n",
    "y = data['label']"
   ]
  },
  {
   "cell_type": "code",
   "execution_count": 10,
   "id": "5cc7a192-493f-4b34-bb93-3722c60140f1",
   "metadata": {},
   "outputs": [],
   "source": [
    "# Splitting the data into training and testing sets\n",
    "X_train, X_test, y_train, y_test = train_test_split(X, y, test_size=0.2, random_state=42)"
   ]
  },
  {
   "cell_type": "code",
   "execution_count": 11,
   "id": "ee10fa27-a7c5-4caf-b27d-d2ca2d2904f6",
   "metadata": {},
   "outputs": [],
   "source": [
    "# Converting text data into TF-IDF features\n",
    "vectorizer = TfidfVectorizer(max_features=5000, stop_words='english')\n",
    "X_train_tfidf = vectorizer.fit_transform(X_train)\n",
    "X_test_tfidf = vectorizer.transform(X_test)"
   ]
  },
  {
   "cell_type": "code",
   "execution_count": 12,
   "id": "cfded6f0-06dc-49d1-b9a4-54b4815478a9",
   "metadata": {},
   "outputs": [
    {
     "data": {
      "text/plain": [
       "['tfidf_vectorizer.pkl']"
      ]
     },
     "execution_count": 12,
     "metadata": {},
     "output_type": "execute_result"
    }
   ],
   "source": [
    "import joblib\n",
    "joblib.dump(vectorizer, 'tfidf_vectorizer.pkl')"
   ]
  },
  {
   "cell_type": "code",
   "execution_count": 13,
   "id": "c20d5eee-9505-42b5-8a3f-c7cb4f30eaaf",
   "metadata": {},
   "outputs": [
    {
     "data": {
      "text/plain": [
       "LogisticRegression()"
      ]
     },
     "execution_count": 13,
     "metadata": {},
     "output_type": "execute_result"
    }
   ],
   "source": [
    "# Logistic Regression Model\n",
    "lr_model = LogisticRegression()\n",
    "lr_model.fit(X_train_tfidf, y_train)"
   ]
  },
  {
   "cell_type": "code",
   "execution_count": 14,
   "id": "1356df7f-d0f7-4219-87c5-a179b74a8621",
   "metadata": {},
   "outputs": [
    {
     "name": "stdout",
     "output_type": "stream",
     "text": [
      "Logistic Regression Training Accuracy: 0.9905896764853277\n",
      "Logistic Regression Testing Accuracy: 0.9869710467706013\n",
      "Logistic Regression Classification Report:\n",
      "               precision    recall  f1-score   support\n",
      "\n",
      "           0       0.99      0.98      0.99      4669\n",
      "           1       0.98      0.99      0.99      4311\n",
      "\n",
      "    accuracy                           0.99      8980\n",
      "   macro avg       0.99      0.99      0.99      8980\n",
      "weighted avg       0.99      0.99      0.99      8980\n",
      "\n"
     ]
    }
   ],
   "source": [
    "# Predicting and evaluating Logistic Regression\n",
    "lr_train_predictions = lr_model.predict(X_train_tfidf)\n",
    "lr_test_predictions = lr_model.predict(X_test_tfidf)\n",
    "lr_train_accuracy = accuracy_score(y_train, lr_train_predictions)\n",
    "lr_test_accuracy = accuracy_score(y_test, lr_test_predictions)\n",
    "print(\"Logistic Regression Training Accuracy:\", lr_train_accuracy)\n",
    "print(\"Logistic Regression Testing Accuracy:\", lr_test_accuracy)\n",
    "print(\"Logistic Regression Classification Report:\\n\", classification_report(y_test, lr_test_predictions))"
   ]
  },
  {
   "cell_type": "code",
   "execution_count": 15,
   "id": "4cf60ab0-4fcf-43df-b3fe-932986fda295",
   "metadata": {},
   "outputs": [
    {
     "data": {
      "text/plain": [
       "MultinomialNB()"
      ]
     },
     "execution_count": 15,
     "metadata": {},
     "output_type": "execute_result"
    }
   ],
   "source": [
    "# Naive Bayes Model\n",
    "nb_model = MultinomialNB()\n",
    "nb_model.fit(X_train_tfidf, y_train)"
   ]
  },
  {
   "cell_type": "code",
   "execution_count": 16,
   "id": "01d8ac71-54c2-4d02-8d44-13ee97541550",
   "metadata": {},
   "outputs": [
    {
     "name": "stdout",
     "output_type": "stream",
     "text": [
      "Naive Bayes Training Accuracy: 0.9333481819700429\n",
      "Naive Bayes Testing Accuracy: 0.9275055679287305\n",
      "Naive Bayes Classification Report:\n",
      "               precision    recall  f1-score   support\n",
      "\n",
      "           0       0.93      0.94      0.93      4669\n",
      "           1       0.93      0.92      0.92      4311\n",
      "\n",
      "    accuracy                           0.93      8980\n",
      "   macro avg       0.93      0.93      0.93      8980\n",
      "weighted avg       0.93      0.93      0.93      8980\n",
      "\n"
     ]
    }
   ],
   "source": [
    "# Predicting and evaluating Naive Bayes\n",
    "nb_train_predictions = nb_model.predict(X_train_tfidf)\n",
    "nb_test_predictions = nb_model.predict(X_test_tfidf)\n",
    "nb_train_accuracy = accuracy_score(y_train, nb_train_predictions)\n",
    "nb_test_accuracy = accuracy_score(y_test, nb_test_predictions)\n",
    "print(\"Naive Bayes Training Accuracy:\", nb_train_accuracy)\n",
    "print(\"Naive Bayes Testing Accuracy:\", nb_test_accuracy)\n",
    "print(\"Naive Bayes Classification Report:\\n\", classification_report(y_test, nb_test_predictions))"
   ]
  },
  {
   "cell_type": "code",
   "execution_count": 17,
   "id": "89176f9a-9a3e-4916-b2f2-d0b27b2f7b37",
   "metadata": {},
   "outputs": [],
   "source": [
    "# Comparative Analysis: Confusion Matrices and Metrics\n",
    "lr_cm = confusion_matrix(y_test, lr_test_predictions)\n",
    "nb_cm = confusion_matrix(y_test, nb_test_predictions)"
   ]
  },
  {
   "cell_type": "code",
   "execution_count": 18,
   "id": "7b40a777-2aa5-4e02-8d78-3e6317a10d89",
   "metadata": {},
   "outputs": [
    {
     "data": {
      "image/png": "[encoded data removed]",
      "text/plain": [
       "<Figure size 1200x600 with 4 Axes>"
      ]
     },
     "metadata": {},
     "output_type": "display_data"
    }
   ],
   "source": [
    "import matplotlib.pyplot as plt\n",
    "# Plotting Confusion Matrices\n",
    "fig, axes = plt.subplots(1, 2, figsize=(12, 6))\n",
    "sns.heatmap(lr_cm, annot=True, fmt='d', cmap='Blues', ax=axes[0])\n",
    "axes[0].set_title('Logistic Regression Confusion Matrix')\n",
    "axes[0].set_xlabel('Predicted')\n",
    "axes[0].set_ylabel('Actual')\n",
    "\n",
    "sns.heatmap(nb_cm, annot=True, fmt='d', cmap='Greens', ax=axes[1])\n",
    "axes[1].set_title('Naive Bayes Confusion Matrix')\n",
    "axes[1].set_xlabel('Predicted')\n",
    "axes[1].set_ylabel('Actual')\n",
    "\n",
    "plt.tight_layout()\n",
    "plt.savefig(\"ConfusionMatrix.jpg\")\n",
    "plt.show()"
   ]
  },
  {
   "cell_type": "code",
   "execution_count": 19,
   "id": "92e583bc-547b-4e9d-a41f-72f6e93b8ea0",
   "metadata": {},
   "outputs": [
    {
     "name": "stdout",
     "output_type": "stream",
     "text": [
      "                 Model  Training Accuracy  Testing Accuracy\n",
      "0  Logistic Regression           0.990590          0.986971\n",
      "1          Naive Bayes           0.933348          0.927506\n"
     ]
    }
   ],
   "source": [
    "# Metrics Comparison Table\n",
    "metrics_data = {\n",
    "    \"Model\": [\"Logistic Regression\", \"Naive Bayes\"],\n",
    "    \"Training Accuracy\": [lr_train_accuracy, nb_train_accuracy],\n",
    "    \"Testing Accuracy\": [lr_test_accuracy, nb_test_accuracy],\n",
    "}\n",
    "metrics_df = pd.DataFrame(metrics_data)\n",
    "print(metrics_df)\n"
   ]
  },
  {
   "cell_type": "code",
   "execution_count": 20,
   "id": "b159b2c9-63a5-4475-be65-e94439f051f9",
   "metadata": {},
   "outputs": [],
   "source": [
    "import pickle\n",
    "\n",
    "# Saving Logistic Regression model\n",
    "with open('logistic_model.pkl', 'wb') as f:\n",
    "    pickle.dump(lr_model, f)\n",
    "\n",
    "# Saving Naive Bayes model\n",
    "with open('naive_bayes_model.pkl', 'wb') as f:\n",
    "    pickle.dump(nb_model, f)\n"
   ]
  },
  {
   "cell_type": "code",
   "execution_count": 21,
   "id": "b3536ede-cc2b-4c4a-b208-6093f7e42600",
   "metadata": {},
   "outputs": [
    {
     "name": "stdout",
     "output_type": "stream",
     "text": [
      "Logistic Regression Prediction: Fake\n",
      "Naive Bayes Prediction: Fake\n"
     ]
    }
   ],
   "source": [
    "import joblib\n",
    "from sklearn.feature_extraction.text import TfidfVectorizer\n",
    "\n",
    "# Loading the pre-trained models and vectorizer\n",
    "log_reg_model = joblib.load('logistic_model.pkl')  \n",
    "naive_bayes_model = joblib.load('naive_bayes_model.pkl')  \n",
    "vectorizer = joblib.load('tfidf_vectorizer.pkl')  \n",
    "\n",
    "# Function to predict if the news is fake or true\n",
    "def predict_news(article):\n",
    "    input_vector = vectorizer.transform([article])  \n",
    "    log_reg_prediction = log_reg_model.predict(input_vector) \n",
    "    naive_bayes_prediction = naive_bayes_model.predict(input_vector)\n",
    "    \n",
    "    return (f\"Logistic Regression Prediction: {'Fake' if log_reg_prediction == 0 else 'True'}\",\n",
    "            f\"Naive Bayes Prediction: {'Fake' if naive_bayes_prediction == 0 else 'True'}\")\n",
    "\n",
    "# Taking input from the user\n",
    "article = input(\"Enter the article text: \")\n",
    "\n",
    "# Displaying the predictions\n",
    "predictions = predict_news(article)\n",
    "for prediction in predictions:\n",
    "    print(prediction)\n"
   ]
  },
  {
   "cell_type": "code",
   "execution_count": 22,
   "id": "c7f5778f-2e56-42b2-be78-eb462049bcc8",
   "metadata": {},
   "outputs": [
    {
     "data": {
      "text/markdown": [
       "### **Input Article:**\n",
       "\n",
       "Aliens have landed on Earth."
      ],
      "text/plain": [
       "<IPython.core.display.Markdown object>"
      ]
     },
     "metadata": {},
     "output_type": "display_data"
    },
    {
     "data": {
      "text/markdown": [
       "**Logistic Regression Prediction: Fake**"
      ],
      "text/plain": [
       "<IPython.core.display.Markdown object>"
      ]
     },
     "metadata": {},
     "output_type": "display_data"
    },
    {
     "data": {
      "text/markdown": [
       "**Naive Bayes Prediction: Fake**"
      ],
      "text/plain": [
       "<IPython.core.display.Markdown object>"
      ]
     },
     "metadata": {},
     "output_type": "display_data"
    }
   ],
   "source": [
    "import joblib\n",
    "from sklearn.feature_extraction.text import TfidfVectorizer\n",
    "from IPython.display import display, Markdown\n",
    "\n",
    "# Loading the pre-trained models and vectorizer\n",
    "log_reg_model = joblib.load('logistic_model.pkl')  \n",
    "naive_bayes_model = joblib.load('naive_bayes_model.pkl')  \n",
    "vectorizer = joblib.load('tfidf_vectorizer.pkl')  \n",
    "\n",
    "# Function to predict if the news is fake or true\n",
    "def predict_news(article):\n",
    "    input_vector = vectorizer.transform([article])  \n",
    "    log_reg_prediction = log_reg_model.predict(input_vector) \n",
    "    naive_bayes_prediction = naive_bayes_model.predict(input_vector)\n",
    "    \n",
    "    return (f\"Logistic Regression Prediction: {'Fake' if log_reg_prediction == 0 else 'True'}\",\n",
    "            f\"Naive Bayes Prediction: {'Fake' if naive_bayes_prediction == 0 else 'True'}\")\n",
    "\n",
    "# Taking input from the user\n",
    "article = input(\"Enter the article text: \")\n",
    "\n",
    "# Displaying the input\n",
    "display(Markdown(f\"### **Input Article:**\\n\\n{article}\"))\n",
    "\n",
    "# Displaying the predictions\n",
    "predictions = predict_news(article)\n",
    "for prediction in predictions:\n",
    "    display(Markdown(f\"**{prediction}**\"))\n"
   ]
  }
 ],
 "metadata": {
  "kernelspec": {
   "display_name": "Python 3",
   "language": "python",
   "name": "python3"
  },
  "language_info": {
   "codemirror_mode": {
    "name": "ipython",
    "version": 3
   },
   "file_extension": ".py",
   "mimetype": "text/x-python",
   "name": "python",
   "nbconvert_exporter": "python",
   "pygments_lexer": "ipython3",
   "version": "3.7.9"
  }
 },
 "nbformat": 4,
 "nbformat_minor": 5
}
